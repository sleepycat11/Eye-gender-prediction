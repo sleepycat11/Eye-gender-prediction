{
 "cells": [
  {
   "cell_type": "code",
   "execution_count": null,
   "metadata": {
    "id": "8fWUOueZl4-1"
   },
   "outputs": [],
   "source": [
    "import matplotlib.pyplot as plt\n",
    "import pandas as pd                                     # Data analysis and manipultion tool\n",
    "import numpy as np                                      # Fundamental package for linear algebra and multidimensional arrays\n",
    "import tensorflow as tf                                 # Deep Learning Tool                                              # OS module in Python provides a way of using operating system dependent functionality\n",
    "import cv2                                              # Library for image processing\n",
    "from sklearn.model_selection import train_test_split    # For splitting the data into train and validation set\n",
    "from sklearn.metrics import f1_score\n",
    "from tensorflow.keras import datasets, layers, models\n",
    "from sklearn.metrics import accuracy_score\n",
    "from joblib import Parallel,delayed\n",
    "import multiprocessing as mp\n",
    "from numba import njit\n",
    "import shutil\n",
    "from tqdm.notebook import tqdm\n",
    "from tensorflow import Tensor"
   ]
  },
  {
   "cell_type": "code",
   "execution_count": null,
   "metadata": {
    "colab": {
     "base_uri": "https://localhost:8080/",
     "height": 311
    },
    "id": "RVs0feKnmarW",
    "outputId": "1a4d3da0-43c2-45d7-f62d-91dd72bc35be",
    "scrolled": true
   },
   "outputs": [],
   "source": [
    "#Unpacking the zip file\n",
    "shutil.unpack_archive('eye_gender_data.zip', 'eye_gender_data')"
   ]
  },
  {
   "cell_type": "code",
   "execution_count": null,
   "metadata": {
    "id": "sune_5K1l8V9"
   },
   "outputs": [],
   "source": [
    "#Here, we load the labels from their csv file\n",
    "labels = pd.read_csv(\"eye_gender_data/Training_set.csv\")\n",
    "#For every label, we extract the file_path to that particular image\n",
    "file_paths = [[fname, 'eye_gender_data/train/' + fname] for fname in labels['filename']]\n",
    "images = pd.DataFrame(file_paths, columns=['filename', 'filepaths'])\n",
    "data = pd.merge(images, labels, how = 'inner', on = 'filename')\n",
    "\n",
    "#To avoid variability in image size, as we're using a basic CNN model, we fix the image size to 100. \n",
    "#This is what works best for this dataset. Other sizes can be taken too.\n",
    "#However, once the size is fixed, it should be used for all the training and test data. Our CNN can't accept different image sizes\n",
    "image_size = 100\n",
    "#Resize every image to our pre-set image size\n",
    "X = np.array([cv2.resize(cv2.imread(data['filepaths'][i], cv2.IMREAD_GRAYSCALE),(image_size,image_size)).reshape(image_size,image_size,1) for i in range(len(images))])\n",
    "#Mapping labels to binary\n",
    "#0 for male and 1 for female\n",
    "Y = np.array([0.0 if (data['label'][i]) == 'male' else 1.0 for i in range(len(images))])"
   ]
  },
  {
   "cell_type": "code",
   "execution_count": null,
   "metadata": {
    "colab": {
     "base_uri": "https://localhost:8080/",
     "height": 264
    },
    "id": "BGKhhdCrt0oM",
    "outputId": "e81c7045-0519-4990-ac25-578d644ef9bd"
   },
   "outputs": [],
   "source": [
    "#Let's examine our training set. Here we plot four random images from our training set\n",
    "random_images = [np.random.randint(0, len(X)) for i in range(4)]\n",
    "f, axarr = plt.subplots(2,2)\n",
    "\n",
    "axarr[0,0].set_title(str(Y[random_images[0]])+\" : \"+labels['label'][random_images[0]])\n",
    "axarr[0,0].imshow(X[random_images[0]].reshape(image_size, image_size))\n",
    "axarr[0, 0].set_axis_off()\n",
    "\n",
    "axarr[0,1].set_title(str(Y[random_images[1]])+\" : \"+labels['label'][random_images[1]])\n",
    "axarr[0,1].imshow(X[random_images[1]].reshape(image_size, image_size), cmap='gray')\n",
    "axarr[0, 1].set_axis_off()\n",
    "\n",
    "axarr[1,0].set_title(str(Y[random_images[2]])+\" : \"+labels['label'][random_images[2]])\n",
    "axarr[1,0].imshow(X[random_images[2]].reshape(image_size, image_size), cmap='gray')\n",
    "axarr[1, 0].set_axis_off()\n",
    "\n",
    "axarr[1,1].set_title(str(Y[random_images[3]])+\" : \"+labels['label'][random_images[3]])\n",
    "axarr[1,1].imshow(X[random_images[3]].reshape(image_size, image_size), cmap='gray')\n",
    "axarr[1, 1].set_axis_off()"
   ]
  },
  {
   "cell_type": "code",
   "execution_count": null,
   "metadata": {
    "id": "Vbw4ab4hOJ0d"
   },
   "outputs": [],
   "source": [
    "#Here, we define our Data Augmentation\n",
    "def augment(inputs: Tensor) -> Tensor:\n",
    "    out = layers.experimental.preprocessing.RandomFlip(\"horizontal\")(inputs)\n",
    "    out = layers.experimental.preprocessing.RandomRotation(0.1)(out)\n",
    "    out = layers.experimental.preprocessing.RandomZoom(0.5)(out)\n",
    "    out = layers.experimental.preprocessing.RandomCrop(image_size,image_size)(out)\n",
    "    return out\n"
   ]
  },
  {
   "cell_type": "code",
   "execution_count": null,
   "metadata": {
    "colab": {
     "base_uri": "https://localhost:8080/",
     "height": 235
    },
    "id": "Oegmusiqt6Uo",
    "outputId": "24f347eb-ba4a-4501-c170-e2f43089191c"
   },
   "outputs": [],
   "source": [
    "#Let's now look at various augmented examples of a single image\n",
    "rand_img = np.random.randint(0, len(X))\n",
    "print(\"Image Label : \"+str(Y[rand_img])+\" : \"+labels['label'][rand_img])\n",
    "image = X[rand_img]\n",
    "plt.figure(figsize=(15,10))\n",
    "for i in range(9):\n",
    "    aug_image = np.array(augment(image))\n",
    "    ax = plt.subplot(3,3,i+1)\n",
    "    plt.imshow(aug_image.reshape(image_size, image_size), cmap='gray')\n",
    "    plt.axis('off') "
   ]
  },
  {
   "cell_type": "code",
   "execution_count": null,
   "metadata": {
    "id": "QPtW4Bcat8ZP"
   },
   "outputs": [],
   "source": [
    "#Importing the required Keras Layers\n",
    "from tensorflow.keras.layers import Input, Conv2D, ReLU, BatchNormalization,\\\n",
    "                                    Add, AveragePooling2D, Flatten, Dense, Dropout\n",
    "from tensorflow.keras.models import Model\n",
    "\n",
    "#We define relu_bn as a combo of ReLU + BatchNorm layers\n",
    "def relu_bn(inputs: Tensor) -> Tensor:\n",
    "    relu = ReLU()(inputs)\n",
    "    bn = BatchNormalization()(relu)\n",
    "    return bn\n",
    "\n",
    "#We define a residual_block which uses a skip connection here\n",
    "def residual_block(x: Tensor, downsample: bool, filters: int, kernel_size: int = 3) -> Tensor:\n",
    "    y = Conv2D(kernel_size=kernel_size,\n",
    "               strides= (1 if not downsample else 2),\n",
    "               filters=filters,\n",
    "               padding=\"same\")(x)\n",
    "    y = relu_bn(y)\n",
    "    y = Conv2D(kernel_size=kernel_size,\n",
    "               strides=1,\n",
    "               filters=filters,\n",
    "               padding=\"same\")(y)\n",
    "\n",
    "    if downsample:\n",
    "        x = Conv2D(kernel_size=1,\n",
    "                   strides=2,\n",
    "                   filters=filters,\n",
    "                   padding=\"same\")(x)\n",
    "    out = Add()([x, y])\n",
    "    out = relu_bn(out)\n",
    "    return out\n",
    "\n",
    "#Here, we combine our final model architecture\n",
    "def create_model():              \n",
    "    inputs = Input(shape=(image_size, image_size, 1))\n",
    "    \n",
    "    num_filters = 64\n",
    "    t = inputs\n",
    "    t = augment(t)\n",
    "    t = Conv2D(kernel_size=3,\n",
    "               strides=1,\n",
    "               filters=num_filters,\n",
    "               padding=\"same\")(t)\n",
    "    t = relu_bn(t)\n",
    "    \n",
    "    num_blocks_list = [2, 5, 5, 2]\n",
    "    for i in range(len(num_blocks_list)):\n",
    "        num_blocks = num_blocks_list[i]\n",
    "        for j in range(num_blocks):\n",
    "            t = residual_block(t, downsample=(j==0 and i!=0), filters=num_filters)\n",
    "            t = Dropout(0.3)(t)\n",
    "        num_filters *= 2\n",
    "    \n",
    "    t = AveragePooling2D(4)(t)\n",
    "    t = Flatten()(t)\n",
    "    outputs = Dense(64, activation='relu')(t)\n",
    "    outputs = Dense(1, activation='sigmoid')(outputs)\n",
    "\n",
    "    model = Model(inputs, outputs)\n",
    "    \n",
    "    model.compile(loss='binary_crossentropy', optimizer=tf.keras.optimizers.Adam(learning_rate=0.001, beta_1=0.9, beta_2=0.999, epsilon=None, decay=0.0, amsgrad=False),metrics=['accuracy'])    \n",
    "\n",
    "    return model"
   ]
  },
  {
   "cell_type": "code",
   "execution_count": null,
   "metadata": {
    "colab": {
     "base_uri": "https://localhost:8080/"
    },
    "id": "aQ08zpyWt_YE",
    "outputId": "7a86090e-3b88-4794-f84a-f7c9fe2e65d4"
   },
   "outputs": [],
   "source": [
    "#Here we create our model and train it. Increase no of epochs for more accuracy\n",
    "model = create_model()\n",
    "history = model.fit(X, Y, epochs=10, batch_size=32)"
   ]
  },
  {
   "cell_type": "code",
   "execution_count": null,
   "metadata": {
    "colab": {
     "base_uri": "https://localhost:8080/"
    },
    "id": "i9CQ96FBadyJ",
    "outputId": "67e4802e-3fb8-4586-afed-4b257872d644"
   },
   "outputs": [],
   "source": [
    "#We save our model as my_model\n",
    "model.save(\"my_model\")"
   ]
  },
  {
   "cell_type": "code",
   "execution_count": null,
   "metadata": {
    "colab": {
     "base_uri": "https://localhost:8080/",
     "height": 1000
    },
    "id": "pgxzyatjatpS",
    "outputId": "33cbdfae-66c7-442b-e877-ec05ea2bf213"
   },
   "outputs": [],
   "source": [
    "#We save an image of our model's architecture\n",
    "from tensorflow.keras.utils import plot_model\n",
    "plot_model(model, to_file='model.png')"
   ]
  }
 ],
 "metadata": {
  "colab": {
   "name": "Untitled6.ipynb",
   "provenance": []
  },
  "gpuClass": "standard",
  "kernelspec": {
   "display_name": "Python 3",
   "language": "python",
   "name": "python3"
  },
  "language_info": {
   "codemirror_mode": {
    "name": "ipython",
    "version": 3
   },
   "file_extension": ".py",
   "mimetype": "text/x-python",
   "name": "python",
   "nbconvert_exporter": "python",
   "pygments_lexer": "ipython3",
   "version": "3.8.3"
  }
 },
 "nbformat": 4,
 "nbformat_minor": 1
}
